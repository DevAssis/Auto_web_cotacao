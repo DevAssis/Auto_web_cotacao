{
 "cells": [
  {
   "cell_type": "markdown",
   "metadata": {},
   "source": [
    "# Automação Web e Busca de Informações com Python\n",
    "\n",
    "#### Desafio: \n",
    "\n",
    "Na nossa empresa fictícia comercializamos produtos que são diretamente influenciados por moedas estrangeiras:\n",
    "\n",
    "- Dólar\n",
    "- Euro\n",
    "- Ouro\n",
    "\n",
    "Nosso trabalho como analista de vendas é atualizar a cotação das moedas diariamente para termos no novo preço de venda\n",
    "Para essa atualização precisamos acessar um site de cotações,pegar o valor da cotação e atualizar nossa planilha.\n",
    "\n",
    "Base de Dados: https://drive.google.com/drive/folders/1ARRjxhKC-ctNKRb7XswBg2KYjLynW3lV?usp=sharing\n",
    "\n",
    "Para isso, vamos criar uma automação web:\n",
    "\n",
    "- Usaremos o selenium\n",
    "- Importante: baixar o webdriver"
   ]
  },
  {
   "cell_type": "code",
   "execution_count": null,
   "metadata": {
    "scrolled": true
   },
   "outputs": [],
   "source": [
    "!pip install selenium"
   ]
  },
  {
   "cell_type": "code",
   "execution_count": null,
   "metadata": {},
   "outputs": [],
   "source": [
    "# import library and drivers\n",
    "\n",
    "from selenium import webdriver\n",
    "from selenium.webdriver.common.by import By\n",
    "from selenium.webdriver.common.keys import Keys\n",
    "import pandas as pd"
   ]
  },
  {
   "cell_type": "code",
   "execution_count": null,
   "metadata": {},
   "outputs": [],
   "source": [
    "#create browser\n",
    "\n",
    "browser = webdriver.Chrome()"
   ]
  },
  {
   "cell_type": "code",
   "execution_count": null,
   "metadata": {},
   "outputs": [],
   "source": [
    "# searching dollar quote\n",
    "\n",
    "browser.get('https://www.google.com/')\n",
    "browser.find_element(By.XPATH,'/html/body/div[1]/div[3]/form/div[1]/div[1]/div[1]/div/div[2]/input').send_keys('cotação dolar')\n",
    "browser.find_element(By.XPATH,'/html/body/div[1]/div[3]/form/div[1]/div[1]/div[1]/div/div[2]/input').send_keys(Keys.ENTER)\n",
    "dollar_quote = browser.find_element(By.XPATH,'//*[@id=\"knowledge-currency__updatable-data-column\"]/div[1]/div[2]/span[1]').get_attribute('data-value')\n"
   ]
  },
  {
   "cell_type": "code",
   "execution_count": null,
   "metadata": {},
   "outputs": [],
   "source": [
    "# searching euro quote\n",
    "\n",
    "browser.get('https://www.google.com/')\n",
    "browser.find_element(By.XPATH,'/html/body/div[1]/div[3]/form/div[1]/div[1]/div[1]/div/div[2]/input').send_keys('cotação euro')\n",
    "browser.find_element(By.XPATH,'/html/body/div[1]/div[3]/form/div[1]/div[1]/div[1]/div/div[2]/input').send_keys(Keys.ENTER)\n",
    "euro_quote = browser.find_element(By.XPATH,'//*[@id=\"knowledge-currency__updatable-data-column\"]/div[1]/div[2]/span[1]').get_attribute('data-value')\n"
   ]
  },
  {
   "cell_type": "code",
   "execution_count": null,
   "metadata": {},
   "outputs": [],
   "source": [
    "# searching gold quote\n",
    "\n",
    "browser.get('https://www.melhorcambio.com/ouro-hoje')\n",
    "gold_quote = browser.find_element(By.XPATH,'//*[@id=\"comercial\"]').get_attribute('value')\n",
    "gold_quote = gold_quote.replace(',', '.')"
   ]
  },
  {
   "cell_type": "code",
   "execution_count": null,
   "metadata": {},
   "outputs": [],
   "source": [
    "#print test\n",
    "\n",
    "display(dollar_quote)\n",
    "display(euro_quote)\n",
    "display(gold_quote)"
   ]
  },
  {
   "cell_type": "markdown",
   "metadata": {},
   "source": [
    "### Agora vamos atualiza a nossa base de preços com as novas cotações"
   ]
  },
  {
   "cell_type": "markdown",
   "metadata": {},
   "source": [
    "- Importing the dataframe"
   ]
  },
  {
   "cell_type": "code",
   "execution_count": null,
   "metadata": {
    "scrolled": true
   },
   "outputs": [],
   "source": [
    "# Importing the dataframe\n",
    "\n",
    "data_frame = pd.read_excel('Produtos.xlsx')\n",
    "display(data_frame)"
   ]
  },
  {
   "cell_type": "markdown",
   "metadata": {},
   "source": [
    "- Atualizando os preços e cálculo Final"
   ]
  },
  {
   "cell_type": "code",
   "execution_count": null,
   "metadata": {
    "scrolled": false
   },
   "outputs": [],
   "source": [
    "# updating quote\n",
    "\n",
    "# command de localizacion -> data_frame.loc[linha, coluna] = float(quote)\n",
    "# data_frame['Moeda'] == 'moeda'\n",
    "\n",
    "data_frame.loc[data_frame['Moeda'] == 'Dólar', 'Cotação'] = float(dollar_quote)\n",
    "data_frame.loc[data_frame['Moeda'] == 'Euro', 'Cotação'] = float(euro_quote)\n",
    "data_frame.loc[data_frame['Moeda'] == 'Ouro', 'Cotação'] = float(gold_quote)\n",
    "display(data_frame)"
   ]
  },
  {
   "cell_type": "code",
   "execution_count": null,
   "metadata": {
    "scrolled": true
   },
   "outputs": [],
   "source": [
    "# Updating prices and Final calculation\n",
    "\n",
    "data_frame['Preço de Compra'] = data_frame['Preço Original'] * data_frame['Cotação']\n",
    "data_frame['Preço de Venda'] = data_frame['Preço de Compra'] * data_frame['Margem']\n",
    "\n",
    "display(data_frame)"
   ]
  },
  {
   "cell_type": "markdown",
   "metadata": {},
   "source": [
    "### Agora vamos exportar a nova base de preços atualizada"
   ]
  },
  {
   "cell_type": "code",
   "execution_count": null,
   "metadata": {},
   "outputs": [],
   "source": [
    "# exporting the base\n",
    "\n",
    "data_frame.to_excel('Produtos Novo.xlsx', index=False)"
   ]
  },
  {
   "cell_type": "code",
   "execution_count": null,
   "metadata": {},
   "outputs": [],
   "source": []
  }
 ],
 "metadata": {
  "kernelspec": {
   "display_name": "Python 3 (ipykernel)",
   "language": "python",
   "name": "python3"
  },
  "language_info": {
   "codemirror_mode": {
    "name": "ipython",
    "version": 3
   },
   "file_extension": ".py",
   "mimetype": "text/x-python",
   "name": "python",
   "nbconvert_exporter": "python",
   "pygments_lexer": "ipython3",
   "version": "3.9.7"
  }
 },
 "nbformat": 4,
 "nbformat_minor": 4
}
